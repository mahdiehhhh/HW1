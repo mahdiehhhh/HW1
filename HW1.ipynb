{
 "cells": [
  {
   "cell_type": "markdown",
   "id": "b4fb2406",
   "metadata": {
    "direction": "rtl"
   },
   "source": [
    "<span style='font-family:B Nazanin Regular;font-size:16px'>\n",
    "\n",
    "# تمرین اول \n",
    "در این تمرین، قصد داریم با load کردن و بررسی dataset ها در محیط پایتون آشنا شویم.  \n",
    "    این تمرین از دو سوال تشکیل شده است، سوال اول بصورت کلی به load کردن dataset و بررسی آن و ایجاد تغییر در دیتاست می‌پردازد.  \n",
    "    سوال دوم نیز در ارتباط با مبحث رگرسیون لاجستیک طرح شده است.  \n",
    "    \n",
    " **در حل تمارین به نکات زیر توجه فرمایید:**\n",
    "    \n",
    " \n",
    "1. ابتدا صورت هر قسمت از سوال نوشته شده و در سلول پایین، توضیحات و راهنمایی‌های لازم (HINTS)، نوشته‌شده‌است.  \n",
    "    توجه کنید دستوراتی که در قسمت HINTS نوشته شده اند، برای راهنمایی بیشتر هستند و استفاده از دستورات دیگری که به **جواب درست خواسته شده در صورت سوال**، منتج شود، قابل قبول خواهد بود.   \n",
    "2. کد جواب هر سوال را در یک سلول code که زیر راهنمایی آن قسمت ایجاد کردید بنویسید. یک سلول markdown برای سوالاتی که نیاز به پاسخ تشریحی هم دارند درنظر گرفته شده. \n",
    "3. برای نوشتن کدهای مربوط به هر سوال، از کامنت‌گذاری‌های مناسب استفاده کنید و حتی‌الامکان، نام‌گذاری متغیرها را بصورت معنی‌دار انجام دهید.  \n",
    "4. در هر یک از مراحل نمرینات، اگر به خطا برخورد کردید، ابتدا خطا را در گوگل سرچ کرده و توضیحاتی که برای راه حل قبول شده وجود دارد را مطالعه کنید. به احتمال زیاد، مشکل کد شما رفع خواهد شد. **اگر همچنان با مشکل روبرو بودید، به من پیام دهید تا راهنمایی کنم :)**\n",
    "    \n",
    "</span>\n"
   ]
  },
  {
   "cell_type": "markdown",
   "id": "03af0387",
   "metadata": {
    "direction": "rtl"
   },
   "source": [
    "<span style='font-family:B Nazanin Regular;font-size:16px'>\n",
    "\n",
    "## سوال 1 \n",
    "در این سوال، از دیتاست Auto که در مخزن تمرین 1 قرار دارد استفاده خواهیم کرد. این دیتاست شامل 9 متغیر مربوط به 397 مدل اتومبیل می‌باشد. \n",
    "### قسمت 1\n",
    "به کمک کتابخانه pandas، دیتاست Auto را فراخوانی کرده و در متغیری به نام dataset_auto قرار دهید.  تعداد ابعاد، سایز دیتاست و تعداد کل عناصر آن را به همراه عبارت مناسب چاپ کرده، سپس، سطر های مربوط به 10 سمپل **ابتدایی** و 8 سمپل **انتهایی** را بصورت جداگانه نمایش دهید. \n",
    "</span>"
   ]
  },
  {
   "cell_type": "code",
   "execution_count": 1,
   "id": "aac2c185",
   "metadata": {},
   "outputs": [],
   "source": [
    "# HINTS:\n",
    "# import libraries: ...\n",
    "# pd.read_csv \n",
    "# .ndim \n",
    "# .shape\n",
    "# .size\n",
    "# .head\n",
    "# .tail"
   ]
  },
  {
   "cell_type": "markdown",
   "id": "cb7d7faa",
   "metadata": {
    "direction": "rtl"
   },
   "source": [
    "<span style='font-family:B Nazanin Regular;font-size:16px'>\n",
    " \n",
    "### قسمت 2  \n",
    "   عنوان ستون‌های دیتاست (header ها) را در یک لیست قرار داده و پرینت کنید. در متغیر dataset_auto، نام ستون horsepower را به strength تغییر دهید. برای اینکه متوجه شوید عملیات خواسته شده را به درستی انجام داده اید، یک بار دیگر، تعدادی از سمپل‌ها را چاپ کنید. \n",
    "</span>"
   ]
  },
  {
   "cell_type": "code",
   "execution_count": 3,
   "id": "b495a7eb",
   "metadata": {},
   "outputs": [],
   "source": [
    "#HINTS:\n",
    "# .columns\n",
    "# .rename(columns = {' ... ':' ... ' }, inplace = ...)\n",
    "# .head"
   ]
  },
  {
   "cell_type": "markdown",
   "id": "8153e556",
   "metadata": {
    "direction": "rtl"
   },
   "source": [
    "<span style='font-family:B Nazanin Regular;font-size:16px'>\n",
    " \n",
    "### قسمت 3 \n",
    "   دستور nunique را روی dataset_auto اجرا کرده و نتایج آن را چاپ کنید. سپس بصورت کوتاه پاسخ دهید که این دستور چه مقادیری را بعنوان خروجی نمایش می‌دهد؟ \n",
    "</span>"
   ]
  },
  {
   "cell_type": "markdown",
   "id": "4e3abdd1",
   "metadata": {
    "direction": "rtl"
   },
   "source": [
    "**پاسخ سوال تشریحی قسمت 3 را اینجا بنویسید:**  \n"
   ]
  },
  {
   "cell_type": "code",
   "execution_count": 5,
   "id": "5f79f062",
   "metadata": {},
   "outputs": [],
   "source": [
    "# HINTS:\n",
    "# .nunique()"
   ]
  },
  {
   "cell_type": "markdown",
   "id": "f8f664ca",
   "metadata": {
    "direction": "rtl"
   },
   "source": [
    "<span style='font-family:B Nazanin Regular;font-size:16px'>\n",
    " \n",
    "### قسمت 4 \n",
    "   مقادیر unique ستون strength را در یک متغیر ذخیره کرده و چاپ کنید. تعداد تکرار مقادیر ویژگی cylinders را بدست آورید. سپس به کمک دستور dtypes، نوع هر یک از ویژگی‌های دیتاست را نمایش دهید. \n",
    "</span>"
   ]
  },
  {
   "cell_type": "code",
   "execution_count": 7,
   "id": "fc38aa0f",
   "metadata": {
    "run_control": {
     "marked": false
    }
   },
   "outputs": [],
   "source": [
    "# HINTS:\n",
    "# dataset_auto[' ... '].unique()\n",
    "# dataset_auto[' ... '].value_counts()\n",
    "# dataset.dtypes"
   ]
  },
  {
   "cell_type": "markdown",
   "id": "5cce41ab",
   "metadata": {
    "direction": "rtl"
   },
   "source": [
    "<span style='font-family:B Nazanin Regular;font-size:16px'>\n",
    " \n",
    "### قسمت 5 \n",
    "   در این قسمت، سمپل هایی از دیتاست که دارای missing value در ویژگی strength هستتند را به کل حذف کرده و دیتاست جدید را در دیتافریمی به نام dataset_auto_new ذخیره کنید. \n",
    "    (دیتاست dataset_auto را در این قسمت، تغییر ندهید)  \n",
    "    \n",
    "**مقادیر missing value در ویژگی strength با علامت ? مشخص شده اند می‌توانید به کمک مراحل زیر، سمپل‌های دارای این مقادیر را حذف نمایید:** \n",
    "1. یک کپی از dataset_auto ایجاد کرده و آن را dataset_auto_new بنامید. \n",
    "2. جایگزین کردن مقادیر ? ستون strength با nan.\n",
    "4. حذف مقادیر nan از دیتاست.\n",
    "    \n",
    "پس از ساخت dataset_auto_new، تعدادی از سمپل های آن را نمایش داده سپس ابعاد دیتاست قدیم و دیتاست جدید را به کمک دستور shape. چاپ کرده و در کد با دستور print، تعداد سمپل‌های حذف شده را بنویسید.\n",
    "    \n",
    "</span>"
   ]
  },
  {
   "cell_type": "code",
   "execution_count": 9,
   "id": "6d2e69a7",
   "metadata": {},
   "outputs": [],
   "source": [
    "# HINTS:\n",
    "# dataset_auto_new[' ... '] = dataset_auto[' ... '].replace(' ... ',np.nan)\n",
    "# .dropna()\n",
    "# print( ... .shape )\n",
    "# print( ... )\n",
    "# print( ...[0] - ...[0] )"
   ]
  },
  {
   "cell_type": "markdown",
   "id": "cd4b2bb1",
   "metadata": {
    "direction": "rtl"
   },
   "source": [
    "<span style='font-family:B Nazanin Regular;font-size:16px'>\n",
    " \n",
    "### قسمت 6 \n",
    "   در این قسمت می‌خواهیم یک ویژگی کیفی جدید به نام powerful در dataset_auto_new بصورت مقابل ایجاد کنیم، که این ویژگی، سمپل ها را به دو گروه yes و no تقسیم می‌کند، اگر مقدار strength اتومبیل از 140 یبشتر باشد مقدار ویژگی powerful برابر yes و درغیر اینصورت، no خواهد بود. پس از افزودن ویژگی جدید، تعدادز از سمپل‌های آن را نمایش دهید تا از اجرای صحیح کد، اطمینان حاصل شود. \n",
    "</span>"
   ]
  },
  {
   "cell_type": "code",
   "execution_count": 11,
   "id": "91964c74",
   "metadata": {},
   "outputs": [],
   "source": [
    "# HINTs:\n",
    "# 1. change strengths data type to float :\n",
    "# dataset_auto_new[' ... '] = dataset_auto_new[' ... '].astype(np.float32)\n",
    "\n",
    "# 2. use following code to add powerful feature to dataset_auto_new:\n",
    "# dataset_auto_new[' ... '] = np.where(dataset_auto_new[' ... '] >  ... ,' ... ',' ... ')\n"
   ]
  },
  {
   "cell_type": "markdown",
   "id": "ed122af1",
   "metadata": {
    "direction": "rtl"
   },
   "source": [
    "<span style='font-family:B Nazanin Regular;font-size:16px'>\n",
    " \n",
    "### قسمت 7\n",
    "یک خلاصه آماری از ویژگی‌های دیتاست dataset_auto_new بدست آورده و در متغیری به نام info ذخیره کرده و چاپ نمایید. در ادامه، یک سطر به نام range به دیتافریم info، بصورت مقابل اضافه کنید. سطر range در info، بیانگر گستره مقادیر هر ویژگی می‌باشد.  \n",
    "$$ range = max - min $$   \n",
    "در ادامه، *ابعاد* **و** *تمام مقادیر* ماتریس info را چاپ کنید.  \n",
    "    \n",
    "**سوال تشریحی:** بصورت کوتاه توضیح دهید ماتریس info چه چیزی را نشان می‌دهد. \n",
    "    \n",
    "   **راهنمایی:** برای دسترسی به مقادیر سطرهای متغیر info، می‌توانید ابتدا info را ترانهاده کرده، سپس مانند قسمت‌های قبل، روی ستون‌های ماتریس ترانهاده شده عملیات خواسته شده را انجام دهید. توجه داشته باشید در نهایت، ماتریس info را دوباره ترانهاده کنید تا عناوین مشخصات آماری در هر سطر قرار گیرند. \n",
    "</span>"
   ]
  },
  {
   "cell_type": "markdown",
   "id": "0b19d81c",
   "metadata": {
    "direction": "rtl"
   },
   "source": [
    "**پاسخ سوال تشریحی قسمت 7 را اینجا بنویسید:**  \n"
   ]
  },
  {
   "cell_type": "code",
   "execution_count": 13,
   "id": "647d3ed2",
   "metadata": {},
   "outputs": [],
   "source": [
    "# HINTS:\n",
    "# info = ... .describe()\n",
    "# info = ... .T\n",
    "# info['range'] = ...\n",
    "# info = ... .T\n",
    "# info.shape or ...\n",
    "# display(info) or ..."
   ]
  },
  {
   "cell_type": "markdown",
   "id": "d1e71aba",
   "metadata": {
    "direction": "rtl"
   },
   "source": [
    "<span style='font-family:B Nazanin Regular;font-size:16px'>\n",
    " \n",
    "### قسمت 8\n",
    "فرض کنید فقط به مقادیر min و max و range در اطلاعات آماری دیتاست علاقه‌مندیم، بنابراین، بقیه اطلاعات آماری را از ماتریس info حذف نمایید، سپس کل ماتریس info را چاپ نمایید. (به عبارتی در انتهای این قسمت، ماتریس info فقط شامل مشخصات آماری min,max,range ویژگی‌ها خواهد بود.)  \n",
    "</span>"
   ]
  },
  {
   "cell_type": "markdown",
   "id": "b4646dda",
   "metadata": {
    "direction": "rtl"
   },
   "source": [
    "<span style='font-family:B Nazanin Regular;font-size:16px'>\n",
    " \n",
    "### قسمت 9\n",
    "دیتاست جدیدی بسازید که فقط شامل 250 سمپل ابتدایی dataset_auto_new باشد و آن را d2 بنامید. مقادیر max,min,range را برای دیتاست d2 به همان ترتیب بالا بدست آورده و در متغیری به نام info2 ذخیره کرده، سپس نمایش دهید.  \n",
    "</span>"
   ]
  },
  {
   "cell_type": "code",
   "execution_count": 16,
   "id": "a0213c21",
   "metadata": {},
   "outputs": [],
   "source": [
    "# HINTS:\n",
    "# d2 = dataset.drop(dataset.index[...])\n",
    "# info2 = ...\n"
   ]
  },
  {
   "cell_type": "markdown",
   "id": "0b1d4e9d",
   "metadata": {
    "direction": "rtl"
   },
   "source": [
    "<span style='font-family:B Nazanin Regular;font-size:16px'>\n",
    " \n",
    "### قسمت 10\n",
    "به کمک تابع pairplot از کتابخانه seaborn، ماتریس scatter plot برای 200 سمپل ابتدایی دیتاست  dataset_auto_new را رسم کنید. بصورت کوتاه توضیح دهید که نمودارهای تولید شده توسط این دستور، چه چیزی را نشان می‌دهند.\n",
    "</span>"
   ]
  },
  {
   "cell_type": "markdown",
   "id": "6b471458",
   "metadata": {
    "direction": "rtl"
   },
   "source": [
    "<span style='font-family:B Nazanin Regular;font-size:16px'>\n",
    "\n",
    "**پاسخ سوال تشریحی قسمت 10 را اینجا بنویسید:** (در حد سه خط توضیح درست کافی است) \n",
    "</span>\n"
   ]
  },
  {
   "cell_type": "code",
   "execution_count": 18,
   "id": "70983745",
   "metadata": {},
   "outputs": [],
   "source": [
    "# HINTS:\n",
    "# import seaborn as sns\n",
    "# sns.pairplot(dataset.iloc[ ... , ...])"
   ]
  },
  {
   "cell_type": "markdown",
   "id": "bfd7a4b3",
   "metadata": {
    "direction": "rtl"
   },
   "source": [
    "<span style='font-family:B Nazanin Regular;font-size:16px'>\n",
    " \n",
    "### قسمت 11\n",
    "دیتاست college را فراخوانی کرده و در متغیری به نام college ذخیره نمایید، این دیتاست شامل اطلاعات مربوط به 777 دانشگاه و کالج در ایالات متحده می‌باشد. ابتدا، تعدادی از سطرهای این دیتاست را چاپ کنید.  \n",
    "</span>"
   ]
  },
  {
   "cell_type": "markdown",
   "id": "82bbd230",
   "metadata": {
    "direction": "rtl"
   },
   "source": [
    "<span style='font-family:B Nazanin Regular;font-size:16px'>\n",
    " \n",
    "### قسمت 12  \n",
    "یکی از ستون‌های این دیتاست، عنوان ندارد که خود pandas به این ستون عنوان Unnamed: 0 داده است، عنوان این ستون را از Unnamed:0 به Name تغییر دهید. \n",
    "</span>"
   ]
  },
  {
   "cell_type": "code",
   "execution_count": 21,
   "id": "9e6353c2",
   "metadata": {},
   "outputs": [],
   "source": [
    "# HINTS:\n",
    "# college.rename(columns = {'Unnamed: 0':'...'}, inplace = True)\n"
   ]
  },
  {
   "cell_type": "markdown",
   "id": "91d0a4ad",
   "metadata": {
    "direction": "rtl"
   },
   "source": [
    "<span style='font-family:B Nazanin Regular;font-size:16px'>\n",
    " \n",
    "### قسمت 13  \n",
    "تعداد تکرار هر مقدار در ویژگی دوم (ویژگی Private) دیتاست college را چاپ کرده، سپس در یک نمودار دایره‌ای به همراه لیبل‌ها (Yes , No) نمایش دهید. همچنین عنوان (title) مناسب برای نمودار قرار دهید و به کمک ویژگی autopct در دستور plt.pie، درصد هر گروه Yes و No را روی نمودار نشان دهید. \n",
    "    \n",
    "</span>"
   ]
  },
  {
   "cell_type": "code",
   "execution_count": 23,
   "id": "80eba18c",
   "metadata": {},
   "outputs": [],
   "source": [
    "# HINTS:\n",
    "# unique , counts = np.unique(college.iloc[...,...] , return_counts=...)\n",
    "# print(counts)\n",
    "# plt.pie(... , labels=... , autopct= '%1.2f%%')"
   ]
  },
  {
   "cell_type": "markdown",
   "id": "457245c0",
   "metadata": {
    "direction": "rtl"
   },
   "source": [
    "<span style='font-family:B Nazanin Regular;font-size:16px'>\n",
    " \n",
    "### قسمت 14\n",
    "به کمک تابع boxplot از کتابخانه seaborn، دو نمودار جعبه‌ای مجزا برحسب ویژگی Private برای ویژگی Outstate در کنار هم رسم نمایید. \n",
    "</span>"
   ]
  },
  {
   "cell_type": "code",
   "execution_count": 25,
   "id": "3bbaed1f",
   "metadata": {},
   "outputs": [],
   "source": [
    "# HINTS:\n",
    "# sns.boxplot(x = ...,y = ...)"
   ]
  },
  {
   "cell_type": "markdown",
   "id": "11ddc3d2",
   "metadata": {
    "direction": "rtl"
   },
   "source": [
    "<span style='font-family:B Nazanin Regular;font-size:16px'>\n",
    "    \n",
    "### قسمت 15  \n",
    "   \n",
    "برای 3 ویژگی کمی  Enroll , Phd , Termainal در دیتاست college، بصورت جداگانه هیستوگرام‌هایی با تعداد bin هایی که خودتان تعریف کرده‌اید در یک figure و داخل یک subplot با ابعاد 2*2 به همراه عنوان مناسب برای هر بخش از subplot رسم نمایید.\n",
    "    \n",
    "</span>"
   ]
  },
  {
   "cell_type": "code",
   "execution_count": 27,
   "id": "f63092aa",
   "metadata": {},
   "outputs": [],
   "source": [
    "# HINTS:\n",
    "# plt.figure()\n",
    "# plt.subplot(...)\n",
    "# x = college[' ... '].value_counts()\n",
    "# plt.hist(x , bins = ...)\n",
    "# title"
   ]
  }
 ],
 "metadata": {
  "kernelspec": {
   "display_name": "Python 3 (ipykernel)",
   "language": "python",
   "name": "python3"
  },
  "language_info": {
   "codemirror_mode": {
    "name": "ipython",
    "version": 3
   },
   "file_extension": ".py",
   "mimetype": "text/x-python",
   "name": "python",
   "nbconvert_exporter": "python",
   "pygments_lexer": "ipython3",
   "version": "3.9.13"
  },
  "toc": {
   "base_numbering": 1,
   "nav_menu": {},
   "number_sections": true,
   "sideBar": true,
   "skip_h1_title": false,
   "title_cell": "Table of Contents",
   "title_sidebar": "Contents",
   "toc_cell": false,
   "toc_position": {},
   "toc_section_display": true,
   "toc_window_display": false
  },
  "varInspector": {
   "cols": {
    "lenName": 16,
    "lenType": 16,
    "lenVar": 40
   },
   "kernels_config": {
    "python": {
     "delete_cmd_postfix": "",
     "delete_cmd_prefix": "del ",
     "library": "var_list.py",
     "varRefreshCmd": "print(var_dic_list())"
    },
    "r": {
     "delete_cmd_postfix": ") ",
     "delete_cmd_prefix": "rm(",
     "library": "var_list.r",
     "varRefreshCmd": "cat(var_dic_list()) "
    }
   },
   "types_to_exclude": [
    "module",
    "function",
    "builtin_function_or_method",
    "instance",
    "_Feature"
   ],
   "window_display": false
  }
 },
 "nbformat": 4,
 "nbformat_minor": 5
}
