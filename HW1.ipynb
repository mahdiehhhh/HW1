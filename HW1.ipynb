{
 "cells": [
  {
   "cell_type": "markdown",
   "id": "3bfd90bf",
   "metadata": {},
   "source": [
    "## HW1\n",
    "\n",
    "<span style='color:Brown'> In this exercise, we are going to load and survey a dataset in the Python environment. </span>\n",
    "    \n",
    "<span style='color:Blue'> Write the code for each part below it, in the corresponding place, and call all the required libraries at the beginning of the exercise .</span>\n",
    "\n",
    "\n"
   ]
  },
  {
   "cell_type": "markdown",
   "id": "81c6101a",
   "metadata": {},
   "source": [
    "### a. load the data:\n",
    "a.1. Use the pandas package to read the Auto data. show the 10 first samples in the dataset."
   ]
  },
  {
   "cell_type": "code",
   "execution_count": null,
   "id": "2151d109",
   "metadata": {},
   "outputs": [],
   "source": []
  },
  {
   "cell_type": "markdown",
   "id": "e1a3a091",
   "metadata": {},
   "source": [
    "### b. prepare dataset:"
   ]
  },
  {
   "cell_type": "markdown",
   "id": "9bb2b64f",
   "metadata": {},
   "source": [
    "b.1. In the loaded dataset, set a header for the \"name\" column."
   ]
  },
  {
   "cell_type": "code",
   "execution_count": null,
   "id": "d0d3eec0",
   "metadata": {},
   "outputs": [],
   "source": []
  },
  {
   "cell_type": "markdown",
   "id": "580c989f",
   "metadata": {},
   "source": [
    "b.2. print horsepower unique values and each  feature data types (unique and dtype attributes). \n",
    "\n",
    "then remove samples that have missing values in horsepower (they are typed as ?), then define the type of horsepower to be integer.\n",
    "\n",
    "(you can replace ? s to numpy.nan then use dropna attribute)\n",
    "\n",
    "at the end, print horsepower unique values and features data types again.\n"
   ]
  },
  {
   "cell_type": "code",
   "execution_count": null,
   "id": "dfc2f7c3",
   "metadata": {},
   "outputs": [],
   "source": []
  },
  {
   "cell_type": "markdown",
   "id": "a256f05a",
   "metadata": {},
   "source": [
    "b.3. Create a new qualitative variable (Yes/No), called powerful as We are going to divide autos into two groups based on whether or not the horsepower exceeds 140 or not."
   ]
  },
  {
   "cell_type": "code",
   "execution_count": null,
   "id": "5cca16d7",
   "metadata": {},
   "outputs": [],
   "source": []
  },
  {
   "cell_type": "markdown",
   "id": "ed122af1",
   "metadata": {},
   "source": [
    "### c. survey dataset:"
   ]
  },
  {
   "cell_type": "markdown",
   "id": "3ff59d00",
   "metadata": {},
   "source": [
    "c.1. produce a numerical summary of the variables in the data set and name it info variable. (guide: Use the describe() attribute)\n",
    "then add a range value to info variable (range = max - min)."
   ]
  },
  {
   "cell_type": "code",
   "execution_count": null,
   "id": "7a8056d3",
   "metadata": {},
   "outputs": [],
   "source": []
  },
  {
   "cell_type": "markdown",
   "id": "f005506b",
   "metadata": {},
   "source": [
    "c.2. Use the pairplot function from seaborn library to produce a scatterplot matrix of the first ten columns or variables of the data."
   ]
  },
  {
   "cell_type": "code",
   "execution_count": null,
   "id": "4d21d777",
   "metadata": {},
   "outputs": [],
   "source": []
  },
  {
   "cell_type": "markdown",
   "id": "557e8ea0",
   "metadata": {},
   "source": [
    "c.3. Use the boxplot function from seaborn library to produce side-by-side boxplots of Outstate versus Private"
   ]
  },
  {
   "cell_type": "code",
   "execution_count": null,
   "id": "ecbf695e",
   "metadata": {},
   "outputs": [],
   "source": []
  },
  {
   "cell_type": "markdown",
   "id": "41d555ee",
   "metadata": {},
   "source": [
    "c.4. produce four histograms with differing numbers of bins for four of the quantitative variables. (use 2*2 subplot)"
   ]
  },
  {
   "cell_type": "code",
   "execution_count": null,
   "id": "91538917",
   "metadata": {},
   "outputs": [],
   "source": []
  },
  {
   "cell_type": "markdown",
   "id": "ff2d4531",
   "metadata": {},
   "source": [
    "c.5. Now remove the 10th through 85th observations. What is the range, mean, and standard deviation of each predictor in the subset of the data that remains? (remember part c)"
   ]
  },
  {
   "cell_type": "code",
   "execution_count": null,
   "id": "d7599f64",
   "metadata": {},
   "outputs": [],
   "source": []
  }
 ],
 "metadata": {
  "kernelspec": {
   "display_name": "Python 3 (ipykernel)",
   "language": "python",
   "name": "python3"
  },
  "language_info": {
   "codemirror_mode": {
    "name": "ipython",
    "version": 3
   },
   "file_extension": ".py",
   "mimetype": "text/x-python",
   "name": "python",
   "nbconvert_exporter": "python",
   "pygments_lexer": "ipython3",
   "version": "3.9.13"
  }
 },
 "nbformat": 4,
 "nbformat_minor": 5
}
